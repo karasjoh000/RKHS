{
 "nbformat": 4,
 "nbformat_minor": 2,
 "metadata": {
  "language_info": {
   "name": "python",
   "codemirror_mode": {
    "name": "ipython",
    "version": 2
   },
   "version": "3.7.6-final"
  },
  "orig_nbformat": 2,
  "file_extension": ".py",
  "mimetype": "text/x-python",
  "name": "python",
  "npconvert_exporter": "python",
  "pygments_lexer": "ipython2",
  "version": 2,
  "kernelspec": {
   "name": "python37664bit8b44d20e5d7445d299ff3240765a35b5",
   "display_name": "Python 3.7.6 64-bit"
  }
 },
 "cells": [
  {
   "cell_type": "code",
   "execution_count": 76,
   "metadata": {},
   "outputs": [],
   "source": [
    "import tensorflow as tf \n",
    "import numpy as np \n",
    "import matplotlib as plt\n",
    "import tensorflow_probability as tfp\n",
    "import math \n",
    "%matplotlib inline"
   ]
  },
  {
   "cell_type": "code",
   "execution_count": 123,
   "metadata": {},
   "outputs": [],
   "source": [
    "# Define the Guassian Kernel\n",
    "t = 1.0 \n",
    "c = 5\n",
    "gausskernel = lambda i, j: c * np.exp( (-1.0 /  ( 2.0 * t**2 )) * (i - j)**2 )"
   ]
  },
  {
   "cell_type": "code",
   "execution_count": 126,
   "metadata": {},
   "outputs": [],
   "source": [
    "def kernel(kernelfunc, size):\n",
    "    return np.fromfunction(lambda i, j: kernelfunc(i, j), (size, size))\n",
    "    + np.identity(size) * 1e-4  # make matrix diagonally dominant. "
   ]
  },
  {
   "cell_type": "code",
   "execution_count": 127,
   "metadata": {},
   "outputs": [
    {
     "name": "stdout",
     "output_type": "stream",
     "text": "[[5.00000000e+00 3.03265330e+00 6.76676416e-01 5.55449827e-02\n  1.67731314e-03 1.86332659e-05 7.61498987e-08 1.14486742e-10\n  6.33208277e-14 1.28837855e-17]\n [3.03265330e+00 5.00000000e+00 3.03265330e+00 6.76676416e-01\n  5.55449827e-02 1.67731314e-03 1.86332659e-05 7.61498987e-08\n  1.14486742e-10 6.33208277e-14]\n [6.76676416e-01 3.03265330e+00 5.00000000e+00 3.03265330e+00\n  6.76676416e-01 5.55449827e-02 1.67731314e-03 1.86332659e-05\n  7.61498987e-08 1.14486742e-10]\n [5.55449827e-02 6.76676416e-01 3.03265330e+00 5.00000000e+00\n  3.03265330e+00 6.76676416e-01 5.55449827e-02 1.67731314e-03\n  1.86332659e-05 7.61498987e-08]\n [1.67731314e-03 5.55449827e-02 6.76676416e-01 3.03265330e+00\n  5.00000000e+00 3.03265330e+00 6.76676416e-01 5.55449827e-02\n  1.67731314e-03 1.86332659e-05]\n [1.86332659e-05 1.67731314e-03 5.55449827e-02 6.76676416e-01\n  3.03265330e+00 5.00000000e+00 3.03265330e+00 6.76676416e-01\n  5.55449827e-02 1.67731314e-03]\n [7.61498987e-08 1.86332659e-05 1.67731314e-03 5.55449827e-02\n  6.76676416e-01 3.03265330e+00 5.00000000e+00 3.03265330e+00\n  6.76676416e-01 5.55449827e-02]\n [1.14486742e-10 7.61498987e-08 1.86332659e-05 1.67731314e-03\n  5.55449827e-02 6.76676416e-01 3.03265330e+00 5.00000000e+00\n  3.03265330e+00 6.76676416e-01]\n [6.33208277e-14 1.14486742e-10 7.61498987e-08 1.86332659e-05\n  1.67731314e-03 5.55449827e-02 6.76676416e-01 3.03265330e+00\n  5.00000000e+00 3.03265330e+00]\n [1.28837855e-17 6.33208277e-14 1.14486742e-10 7.61498987e-08\n  1.86332659e-05 1.67731314e-03 5.55449827e-02 6.76676416e-01\n  3.03265330e+00 5.00000000e+00]]\n"
    }
   ],
   "source": [
    "kernel = kernel(gausskernel, 10)  # create a precicision or kernel matrix\n",
    "print(kernel)"
   ]
  },
  {
   "cell_type": "code",
   "execution_count": 128,
   "metadata": {},
   "outputs": [
    {
     "name": "stdout",
     "output_type": "stream",
     "text": "[[5.00000000e+00 3.03265330e+00 6.76676416e-01 5.55449827e-02\n  1.67731314e-03 1.86332659e-05 7.61498987e-08 1.14486742e-10\n  6.33208277e-14 1.28837855e-17]\n [3.03265330e+00 5.00000000e+00 3.03265330e+00 6.76676416e-01\n  5.55449827e-02 1.67731314e-03 1.86332659e-05 7.61498987e-08\n  1.14486742e-10 6.33208277e-14]\n [6.76676416e-01 3.03265330e+00 5.00000000e+00 3.03265330e+00\n  6.76676416e-01 5.55449827e-02 1.67731314e-03 1.86332659e-05\n  7.61498987e-08 1.14486742e-10]\n [5.55449827e-02 6.76676416e-01 3.03265330e+00 5.00000000e+00\n  3.03265330e+00 6.76676416e-01 5.55449827e-02 1.67731314e-03\n  1.86332659e-05 7.61498987e-08]\n [1.67731314e-03 5.55449827e-02 6.76676416e-01 3.03265330e+00\n  5.00000000e+00 3.03265330e+00 6.76676416e-01 5.55449827e-02\n  1.67731314e-03 1.86332659e-05]\n [1.86332659e-05 1.67731314e-03 5.55449827e-02 6.76676416e-01\n  3.03265330e+00 5.00000000e+00 3.03265330e+00 6.76676416e-01\n  5.55449827e-02 1.67731314e-03]\n [7.61498987e-08 1.86332659e-05 1.67731314e-03 5.55449827e-02\n  6.76676416e-01 3.03265330e+00 5.00000000e+00 3.03265330e+00\n  6.76676416e-01 5.55449827e-02]\n [1.14486742e-10 7.61498987e-08 1.86332659e-05 1.67731314e-03\n  5.55449827e-02 6.76676416e-01 3.03265330e+00 5.00000000e+00\n  3.03265330e+00 6.76676416e-01]\n [6.33208277e-14 1.14486742e-10 7.61498987e-08 1.86332659e-05\n  1.67731314e-03 5.55449827e-02 6.76676416e-01 3.03265330e+00\n  5.00000000e+00 3.03265330e+00]\n [1.28837855e-17 6.33208277e-14 1.14486742e-10 7.61498987e-08\n  1.86332659e-05 1.67731314e-03 5.55449827e-02 6.76676416e-01\n  3.03265330e+00 5.00000000e+00]]\n"
    }
   ],
   "source": [
    "covmatrix = tf.linalg.inv(kernel)  # invert kernel/precision matrix to get covariance matrix. \n",
    "print(kernel)"
   ]
  },
  {
   "cell_type": "code",
   "execution_count": 129,
   "metadata": {},
   "outputs": [
    {
     "name": "stdout",
     "output_type": "stream",
     "text": "tf.Tensor(\n[[ 1.00000000e+00  1.33093293e-16  9.92242431e-18 -2.48227430e-17\n   1.01943664e-16 -4.70765986e-17  1.62604536e-17  7.12799032e-20\n   5.63093435e-18  5.10674151e-18]\n [ 2.60303677e-16  1.00000000e+00  1.61160291e-16 -5.64015243e-16\n   1.29681493e-16 -3.14190839e-17 -5.20206349e-17  3.15936934e-17\n  -2.94737580e-17 -1.13287723e-17]\n [ 1.10472074e-16  6.17909531e-16  1.00000000e+00  9.88514967e-17\n  -4.82579299e-17  6.96270375e-17 -1.30418224e-16  1.34387835e-16\n   3.61055704e-17  2.51275061e-17]\n [ 1.41241162e-16 -2.91305282e-16 -2.14596454e-16  1.00000000e+00\n   4.65631385e-16 -2.46379550e-18  1.26126862e-17 -3.78285576e-18\n  -1.88842025e-17 -7.91930807e-18]\n [ 1.71740139e-16  5.39725159e-17 -2.64515684e-17 -2.84401476e-16\n   1.00000000e+00 -3.49166039e-16  8.53601688e-16  7.37596290e-18\n   1.26882994e-16 -2.59641009e-17]\n [ 1.69432000e-17  1.07342791e-16 -2.33767541e-16  8.38711696e-16\n  -3.23498823e-17  1.00000000e+00  8.13314260e-16 -4.78675259e-17\n   1.67617656e-16 -1.66967135e-16]\n [-3.46402594e-17  5.91974386e-17  5.11743425e-17  7.36390116e-16\n  -2.21177243e-16  1.54824070e-15  1.00000000e+00  8.93382590e-16\n  -5.48172618e-16  1.00613962e-16]\n [ 1.25767452e-17  2.34187669e-17  9.02056208e-17 -6.24500451e-17\n   3.26128013e-16  4.57966998e-16 -1.80411242e-16  1.00000000e+00\n   8.32667268e-16 -2.77555756e-16]\n [-2.60208521e-17  9.02056208e-17 -1.66533454e-16  2.63677968e-16\n  -3.60822483e-16  9.99200722e-16 -1.66533454e-15  1.11022302e-15\n   1.00000000e+00  4.44089210e-16]\n [ 6.93889390e-18  0.00000000e+00  1.38777878e-17  0.00000000e+00\n   0.00000000e+00  1.11022302e-16  1.11022302e-16 -4.44089210e-16\n   4.44089210e-16  1.00000000e+00]], shape=(10, 10), dtype=float64)\n"
    }
   ],
   "source": [
    "print(tf.linalg.matmul(kernel, covmatrix))  # insure it is an inverse"
   ]
  },
  {
   "cell_type": "code",
   "execution_count": 130,
   "metadata": {},
   "outputs": [],
   "source": [
    "def create_normal_distribution(kernel): \n",
    "    mu, cov = np.zeros(tf.shape(kernel).numpy()[0]), tf.linalg.inv(kernel)\n",
    "    scale = tf.linalg.cholesky(cov)\n",
    "    return tfp.distributions.MultivariateNormalTriL(loc=mu,scale_tril=scale)"
   ]
  },
  {
   "cell_type": "code",
   "execution_count": 131,
   "metadata": {},
   "outputs": [],
   "source": [
    "mvn = create_normal_distribution(kernel)"
   ]
  },
  {
   "cell_type": "code",
   "execution_count": 156,
   "metadata": {},
   "outputs": [],
   "source": [
    "def create_sample_functions(mvn, kernelfunc, sample_size): \n",
    "    weights = mvn.sample([sample_size]).numpy()\n",
    "    rkhs_funcs = []\n",
    "    for i in range(0, weights.shape[0]): \n",
    "        for j in range(0, weights.shape[1]): \n",
    "            if j == 0: \n",
    "                rkhs_funcs.append(lambda x: weights[i, j] * kernelfunc(1, x))\n",
    "            else: \n",
    "                rkhs_funcs[i] = lambda x: rkhs_funcs[i](x) + weights[i, j] * kernelfunc(1, x)\n",
    "    return rkhs_funcs"
   ]
  },
  {
   "cell_type": "code",
   "execution_count": 0,
   "metadata": {},
   "outputs": [],
   "source": [
    "functions = create_sample_functions(mvn, gausskernel, 10)"
   ]
  },
  {
   "cell_type": "code",
   "execution_count": 0,
   "metadata": {},
   "outputs": [],
   "source": [
    "print(functions[0])"
   ]
  },
  {
   "cell_type": "code",
   "execution_count": 171,
   "metadata": {},
   "outputs": [],
   "source": [
    "x = np.linspace(-5,5,100)\n",
    "y = functions[0](x)\n",
    "print(x)"
   ]
  },
  {
   "cell_type": "code",
   "execution_count": 0,
   "metadata": {},
   "outputs": [],
   "source": [
    "plt.plot(x,y, 'r')\n",
    "plt.show()"
   ]
  },
  {
   "cell_type": "code",
   "execution_count": null,
   "metadata": {},
   "outputs": [],
   "source": []
  },
  {
   "cell_type": "code",
   "execution_count": null,
   "metadata": {},
   "outputs": [],
   "source": []
  },
  {
   "cell_type": "code",
   "execution_count": null,
   "metadata": {},
   "outputs": [],
   "source": []
  },
  {
   "cell_type": "code",
   "execution_count": null,
   "metadata": {},
   "outputs": [],
   "source": []
  },
  {
   "cell_type": "code",
   "execution_count": null,
   "metadata": {},
   "outputs": [],
   "source": []
  },
  {
   "cell_type": "code",
   "execution_count": null,
   "metadata": {},
   "outputs": [],
   "source": []
  },
  {
   "cell_type": "code",
   "execution_count": null,
   "metadata": {},
   "outputs": [],
   "source": [
    "\n",
    "\n",
    "\n",
    "\n",
    "\n",
    "\n",
    "\n",
    "\n",
    "\n",
    "\n",
    "\n",
    "\n",
    "\n",
    "\n",
    "\n",
    "\n",
    "\n",
    "\n",
    "\n",
    "\n",
    "\n",
    "\n",
    "\n",
    "\n"
   ]
  }
 ]
}